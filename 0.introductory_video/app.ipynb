{
 "cells": [
  {
   "cell_type": "markdown",
   "metadata": {},
   "source": [
    "# introdction through this vidéo :\n",
    "https://www.youtube.com/watch?v=kqtD5dpn9C8&t=2s;"
   ]
  },
  {
   "cell_type": "code",
   "execution_count": 1,
   "metadata": {},
   "outputs": [
    {
     "name": "stdout",
     "output_type": "stream",
     "text": [
      "hello world\n"
     ]
    }
   ],
   "source": [
    "print(\"hello world\")"
   ]
  },
  {
   "cell_type": "code",
   "execution_count": 4,
   "metadata": {},
   "outputs": [],
   "source": [
    "# exercice 1 in the video\n",
    "\n",
    "name = \"John Smith\"\n",
    "age = 20\n",
    "new_patient = True"
   ]
  },
  {
   "cell_type": "code",
   "execution_count": 3,
   "metadata": {},
   "outputs": [
    {
     "name": "stdout",
     "output_type": "stream",
     "text": [
      "the sum egals : 30.0\n"
     ]
    }
   ],
   "source": [
    "# exerxices 2\n",
    "\n",
    "nb1=float(input(\"first number : \"))\n",
    "nb2=float(input(\"second number : \"))\n",
    "\n",
    "print(\"the sum egals : \"+str(nb1+nb2))"
   ]
  },
  {
   "cell_type": "code",
   "execution_count": 12,
   "metadata": {},
   "outputs": [
    {
     "name": "stdout",
     "output_type": "stream",
     "text": [
      "you wieght 76.5kg\n"
     ]
    }
   ],
   "source": [
    "#exercice 3\n",
    "\n",
    "masse =float(input(\"how much do you weight? \"))\n",
    "weight = input(\"in Lb(l) or in kg(k)? \")\n",
    "\n",
    "if  weight.upper()==\"L\":\n",
    "    converted = masse*0.45\n",
    "    print(\"you wieght \"+str(converted)+\"kg\")\n",
    "elif weight.upper()==\"K\":\n",
    "    converted = masse/0.45\n",
    "    print(\"you weight \"+ str(converted)+\"kg\")\n",
    "else:\n",
    "    print(\"wtf\")"
   ]
  },
  {
   "cell_type": "markdown",
   "metadata": {},
   "source": [
    "### good overall intruductory video but missing function would have been a 10/10."
   ]
  }
 ],
 "metadata": {
  "kernelspec": {
   "display_name": "Python 3",
   "language": "python",
   "name": "python3"
  },
  "language_info": {
   "codemirror_mode": {
    "name": "ipython",
    "version": 3
   },
   "file_extension": ".py",
   "mimetype": "text/x-python",
   "name": "python",
   "nbconvert_exporter": "python",
   "pygments_lexer": "ipython3",
   "version": "3.10.12"
  }
 },
 "nbformat": 4,
 "nbformat_minor": 2
}
